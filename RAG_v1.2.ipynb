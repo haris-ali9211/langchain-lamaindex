{
 "cells": [
  {
   "cell_type": "code",
   "id": "initial_id",
   "metadata": {
    "collapsed": true,
    "ExecuteTime": {
     "end_time": "2024-07-26T07:55:11.916623Z",
     "start_time": "2024-07-26T07:55:08.670018Z"
    }
   },
   "source": "! pip install -U langchain-nomic langchain_community tiktoken langchainhub chromadb langchain langgraph tavily-python gpt4all firecrawl-py PyMuPDF sentence_transformers python-dotenv langchain_intro\n",
   "outputs": [
    {
     "name": "stdout",
     "output_type": "stream",
     "text": [
      "Requirement already satisfied: langchain-nomic in ./venv/lib/python3.12/site-packages (0.1.2)\r\n",
      "Requirement already satisfied: langchain_community in ./venv/lib/python3.12/site-packages (0.2.10)\r\n",
      "Requirement already satisfied: tiktoken in ./venv/lib/python3.12/site-packages (0.7.0)\r\n",
      "Requirement already satisfied: langchainhub in ./venv/lib/python3.12/site-packages (0.1.20)\r\n",
      "Requirement already satisfied: chromadb in ./venv/lib/python3.12/site-packages (0.5.5)\r\n",
      "Requirement already satisfied: langchain in ./venv/lib/python3.12/site-packages (0.2.11)\r\n",
      "Requirement already satisfied: langgraph in ./venv/lib/python3.12/site-packages (0.1.14)\r\n",
      "Requirement already satisfied: tavily-python in ./venv/lib/python3.12/site-packages (0.3.5)\r\n",
      "Requirement already satisfied: gpt4all in ./venv/lib/python3.12/site-packages (2.7.0)\r\n",
      "Requirement already satisfied: firecrawl-py in ./venv/lib/python3.12/site-packages (0.0.20)\r\n",
      "Requirement already satisfied: PyMuPDF in ./venv/lib/python3.12/site-packages (1.24.9)\r\n",
      "Requirement already satisfied: sentence_transformers in ./venv/lib/python3.12/site-packages (3.0.1)\r\n",
      "Requirement already satisfied: python-dotenv in ./venv/lib/python3.12/site-packages (1.0.1)\r\n",
      "\u001B[31mERROR: Could not find a version that satisfies the requirement langchain_intro (from versions: none)\u001B[0m\u001B[31m\r\n",
      "\u001B[0m\u001B[31mERROR: No matching distribution found for langchain_intro\u001B[0m\u001B[31m\r\n",
      "\u001B[0m"
     ]
    }
   ],
   "execution_count": 1
  },
  {
   "metadata": {
    "ExecuteTime": {
     "end_time": "2024-07-26T07:55:36.795141Z",
     "start_time": "2024-07-26T07:55:11.918188Z"
    }
   },
   "cell_type": "code",
   "source": [
    "## index\n",
    "\n",
    "from langchain.text_splitter import RecursiveCharacterTextSplitter\n",
    "from langchain_community.vectorstores import Chroma\n",
    "from langchain_community.embeddings import GPT4AllEmbeddings\n",
    "from langchain_community.document_loaders import PyMuPDFLoader\n",
    "from langchain.docstore.document import Document\n",
    "\n",
    "# Load PDF documents\n",
    "pdf_file_paths = [\"./data/Medical Policy FY 23-24.pdf\", \"./data/Provident fund policy.pdf\"]\n",
    "\n",
    "docs_list = []\n",
    "for pdf_path in pdf_file_paths:\n",
    "    loader = PyMuPDFLoader(pdf_path)\n",
    "    try:\n",
    "        loaded_docs = loader.load()\n",
    "        docs_list.extend(loaded_docs)\n",
    "    except Exception as e:\n",
    "        print(f\"Error loading {pdf_path}: {e}\")\n",
    "\n",
    "# Split documents\n",
    "text_splitter = RecursiveCharacterTextSplitter.from_tiktoken_encoder(chunk_size=250, chunk_overlap=0)\n",
    "doc_splitter = text_splitter.split_documents(docs_list)\n",
    "\n",
    "# Filter and clean metadata\n",
    "filtered_doc = []\n",
    "for doc in doc_splitter:\n",
    "    if isinstance(doc, Document) and hasattr(doc, 'metadata'):\n",
    "        clean_metadata = {k: v for k, v in doc.metadata.items() if isinstance(v, (str, int, float, bool))}\n",
    "        filtered_doc.append(Document(page_content=doc.page_content, metadata=clean_metadata))\n",
    "\n",
    "# Add to vectorDB\n",
    "embedding = GPT4AllEmbeddings(model_name=\"all-MiniLM-L6-v2.gguf2.f16.gguf\", gpt4all_kwargs={'allow_download': 'True'})\n",
    "vectorstore = Chroma.from_documents(\n",
    "    documents=filtered_doc,\n",
    "    collection_name=\"rag-chroma\",\n",
    "    embedding=embedding,\n",
    ")\n",
    "\n",
    "retriever = vectorstore.as_retriever()"
   ],
   "id": "2c187aaa96e17864",
   "outputs": [],
   "execution_count": 2
  },
  {
   "metadata": {
    "ExecuteTime": {
     "end_time": "2024-07-26T07:55:36.797922Z",
     "start_time": "2024-07-26T07:55:36.795884Z"
    }
   },
   "cell_type": "code",
   "source": [
    "# local_llm = 'gemma'\n",
    "local_llm = 'llama3'\n",
    "# local_llm = 'mistral'"
   ],
   "id": "3f06c3e5637a9a3b",
   "outputs": [],
   "execution_count": 3
  },
  {
   "metadata": {
    "ExecuteTime": {
     "end_time": "2024-07-26T07:55:36.917598Z",
     "start_time": "2024-07-26T07:55:36.799678Z"
    }
   },
   "cell_type": "code",
   "source": [
    "from langchain_community.chat_models import ChatOllama\n",
    "from langchain_core.output_parsers import StrOutputParser\n",
    "\n",
    "llm = ChatOllama(model=local_llm, temperature=0)\n",
    "\n",
    "output_parser = StrOutputParser()\n"
   ],
   "id": "d5a4fe8c4407cb0e",
   "outputs": [],
   "execution_count": 4
  },
  {
   "metadata": {
    "ExecuteTime": {
     "end_time": "2024-07-26T07:55:53.742201Z",
     "start_time": "2024-07-26T07:55:36.918147Z"
    }
   },
   "cell_type": "code",
   "source": [
    "from langchain.prompts import (\n",
    "    PromptTemplate,\n",
    "    SystemMessagePromptTemplate,\n",
    "    HumanMessagePromptTemplate,\n",
    "    ChatPromptTemplate,\n",
    ")\n",
    "from langchain.schema.runnable import RunnablePassthrough\n",
    "\n",
    "context_template_str = \"\"\"system You are an assistant for question-answering tasks. Use the following context to answer the question. Avoid phrases like \"Based on the provided context\". Explain the answer in the end. and make a heading with paragraph.\n",
    "Question: {question}\n",
    "Context: {context}\n",
    "Answer: assistant\"\"\"\n",
    "\n",
    "context_system_prompt = SystemMessagePromptTemplate(\n",
    "    prompt=PromptTemplate(\n",
    "        input_variables=[\"context\", \"question\"],\n",
    "        template=context_template_str,\n",
    "    )\n",
    ")\n",
    "\n",
    "context_human_prompt = HumanMessagePromptTemplate(\n",
    "    prompt=PromptTemplate(\n",
    "        input_variables=[\"question\"],\n",
    "        template=\"{question}\",\n",
    "    )\n",
    ")\n",
    "\n",
    "context_messages = [context_system_prompt, context_human_prompt]\n",
    "\n",
    "context_prompt_template = ChatPromptTemplate(\n",
    "    input_variables=[\"context\", \"question\"],\n",
    "    messages=context_messages,\n",
    ")\n",
    "\n",
    "context_chain = {\"context\": retriever,\n",
    "                 \"question\": RunnablePassthrough()} | context_prompt_template | llm | output_parser\n",
    "\n",
    "context_question = \"Does original receipts must be submitted?\"\n",
    "context_answer = context_chain.invoke(context_question)\n",
    "print(context_answer)"
   ],
   "id": "c259dea7d4fcdc16",
   "outputs": [
    {
     "name": "stdout",
     "output_type": "stream",
     "text": [
      "**Original Receipt Submission Requirement**\n",
      "\n",
      "According to the Provident Fund Policy V2.0, original receipts must be submitted within 30 days of loan disbursement for construction on a plot. This is stated in point 2 under \"Documents to be submitted\" on page 6.\n",
      "\n",
      "However, it's worth noting that this requirement only applies to construction on a plot and not to other types of withdrawals or expenses. For medicines, tests, procedures, etc., original receipts are required as per the Medical Policy FY 23-24.\n",
      "\n",
      "**Key Takeaway**\n",
      "\n",
      "Original receipts must be submitted within 30 days of loan disbursement for construction on a plot, but this requirement may vary depending on the type of expense or withdrawal.\n"
     ]
    }
   ],
   "execution_count": 5
  },
  {
   "metadata": {
    "ExecuteTime": {
     "end_time": "2024-07-26T07:55:58.507307Z",
     "start_time": "2024-07-26T07:55:53.743857Z"
    }
   },
   "cell_type": "code",
   "source": [
    "no_context_system_template_str = \"\"\"system You are an assistant for question-answering tasks. Answer the question concisely and directly. If you dont know the answer the say dont know.\n",
    "Question: {question}\n",
    "Answer: assistant\"\"\"\n",
    "\n",
    "no_context_system_prompt = SystemMessagePromptTemplate(\n",
    "    prompt=PromptTemplate(\n",
    "        input_variables=[\"question\"],\n",
    "        template=no_context_system_template_str,\n",
    "    )\n",
    ")\n",
    "\n",
    "no_context_human_prompt = HumanMessagePromptTemplate(\n",
    "    prompt=PromptTemplate(\n",
    "        input_variables=[\"question\"],\n",
    "        template=\"{question}\",\n",
    "    )\n",
    ")\n",
    "\n",
    "no_context_messages = [no_context_system_prompt, no_context_human_prompt]\n",
    "\n",
    "no_context_prompt_template = ChatPromptTemplate(\n",
    "    input_variables=[\"question\"],\n",
    "    messages=no_context_messages,\n",
    ")\n",
    "\n",
    "no_context_chain = {\"question\": RunnablePassthrough()} | no_context_prompt_template | llm | output_parser\n",
    "\n",
    "no_context_question = \"what is 911 event\"\n",
    "no_context_answer = no_context_chain.invoke(no_context_question)\n",
    "print(no_context_answer)"
   ],
   "id": "11f1188dfa78fca1",
   "outputs": [
    {
     "name": "stdout",
     "output_type": "stream",
     "text": [
      "The 9/11 event, also known as the September 11 attacks, was a series of coordinated terrorist attacks that occurred on September 11, 2001. On that day, four commercial airplanes were hijacked by terrorists affiliated with al-Qaeda. Two planes crashed into the Twin Towers of the World Trade Center in New York City, causing massive damage and loss of life. Another plane crashed into the Pentagon in Arlington, Virginia, and the fourth plane, believed to be heading for the White House or the U.S. Capitol Building, crashed in a field in Pennsylvania after passengers attempted to overpower the hijackers. In total, nearly 3,000 people were killed in the attacks.\n"
     ]
    }
   ],
   "execution_count": 6
  },
  {
   "metadata": {
    "ExecuteTime": {
     "end_time": "2024-07-26T07:55:58.511891Z",
     "start_time": "2024-07-26T07:55:58.508285Z"
    }
   },
   "cell_type": "code",
   "source": [
    "import random\n",
    "import time\n",
    "\n",
    "\n",
    "def get_current_wait_time(hospital: str) -> int | str:\n",
    "    \"\"\"Dummy function to generate fake wait times\"\"\"\n",
    "\n",
    "    if hospital not in [\"A\", \"B\", \"C\", \"D\"]:\n",
    "        return f\"Hospital {hospital} does not exist\"\n",
    "\n",
    "    # Simulate API call delay\n",
    "    time.sleep(1)\n",
    "\n",
    "    return random.randint(0, 10000)"
   ],
   "id": "a9c76e4d06b82a29",
   "outputs": [],
   "execution_count": 7
  },
  {
   "metadata": {
    "ExecuteTime": {
     "end_time": "2024-07-26T08:32:35.181499Z",
     "start_time": "2024-07-26T08:32:35.178188Z"
    }
   },
   "cell_type": "code",
   "source": [
    "from langchain.agents import (\n",
    "    create_openai_functions_agent,\n",
    "    Tool,\n",
    "    AgentExecutor,\n",
    ")\n",
    "from langchain import hub\n",
    "\n",
    "tools = [\n",
    "    Tool(\n",
    "        name=\"MedicalPolicy\",\n",
    "        func=no_context_chain.invoke,\n",
    "        description=\"\"\"Useful when you need to answer questions about the Medical Policy FY 23-24.\n",
    "        This includes eligibility, coverage details, claims process, and other related information.\n",
    "        Pass the entire question as input to the tool. For instance, if the question is \"Does original receipts must be submitted?\",\n",
    "        the input should be \"Does original receipts must be submitted?\".\n",
    "        \"\"\",\n",
    "    ),\n",
    "    Tool(\n",
    "        name=\"ProvidentFundPolicy\",\n",
    "        func=no_context_chain.invoke,\n",
    "        description=\"\"\"Useful when you need to answer questions about the Provident Fund Policy.\n",
    "        This includes eligibility, contributions, profit on contributions, withdrawals, and loans.\n",
    "        Pass the entire question as input to the tool. For instance, if the question is \"What is the eligibility for the provident fund?\",\n",
    "        the input should be \"What is the eligibility for the provident fund?\".\n",
    "        \"\"\",\n",
    "    ),\n",
    "    Tool(\n",
    "        name=\"Waits\",\n",
    "        func=get_current_wait_time,\n",
    "        description=\"\"\"Use when asked about current wait times\n",
    "        at a specific hospital. This tool can only get the current\n",
    "        wait time at a hospital and does not have any information about\n",
    "        aggregate or historical wait times. This tool returns wait times in\n",
    "        minutes. Do not pass the word \"hospital\" as input,\n",
    "        only the hospital name itself. For instance, if the question is\n",
    "        \"What is the wait time at hospital A?\", the input should be \"A\".\n",
    "        \"\"\",\n",
    "    ),\n",
    "]\n"
   ],
   "id": "2173eb995c9dcf7c",
   "outputs": [],
   "execution_count": 18
  },
  {
   "metadata": {
    "ExecuteTime": {
     "end_time": "2024-07-26T08:42:17.636404Z",
     "start_time": "2024-07-26T08:42:07.785594Z"
    }
   },
   "cell_type": "code",
   "source": [
    "agent_prompt = hub.pull(\"hwchase17/openai-functions-agent\")\n",
    "\n",
    "hospital_agent = create_openai_functions_agent(\n",
    "    llm=llm,\n",
    "    prompt=agent_prompt,\n",
    "    tools=tools,\n",
    ")\n",
    "\n",
    "hospital_agent_executor = AgentExecutor(\n",
    "    agent=hospital_agent,\n",
    "    tools=tools,\n",
    "    return_intermediate_steps=True,\n",
    "    verbose=True,\n",
    ")\n",
    "\n",
    "hospital_agent_executor.invoke(\n",
    "    {\"input\": \"What is the current wait time at hospital A?\"}\n",
    ")"
   ],
   "id": "966ddf9181571850",
   "outputs": [
    {
     "name": "stdout",
     "output_type": "stream",
     "text": [
      "\n",
      "\n",
      "\u001B[1m> Entering new AgentExecutor chain...\u001B[0m\n",
      "\u001B[32;1m\u001B[1;3mI'm happy to help! However, I'm just an AI and don't have real-time access to specific hospitals' wait times. But I can suggest some ways for you to find out the current wait time at Hospital A:\n",
      "\n",
      "1. Check their website: You can visit Hospital A's official website and look for a \"Wait Times\" or \"Patient Information\" section, which may provide an estimate of the current wait time.\n",
      "2. Call the hospital directly: Reach out to Hospital A's main phone number or patient information line and ask about the current wait time. They should be able to provide you with an update.\n",
      "3. Use a hospital finder app: There are several apps available that allow you to search for hospitals, check wait times, and even book appointments. Some popular options include Zocdoc, Healthgrades, and RateMDs.\n",
      "\n",
      "Remember to always verify the accuracy of any information you find online or through phone calls. If you have any further questions or concerns, feel free to ask!\u001B[0m\n",
      "\n",
      "\u001B[1m> Finished chain.\u001B[0m\n"
     ]
    },
    {
     "data": {
      "text/plain": [
       "{'input': 'What is the current wait time at hospital A?',\n",
       " 'output': 'I\\'m happy to help! However, I\\'m just an AI and don\\'t have real-time access to specific hospitals\\' wait times. But I can suggest some ways for you to find out the current wait time at Hospital A:\\n\\n1. Check their website: You can visit Hospital A\\'s official website and look for a \"Wait Times\" or \"Patient Information\" section, which may provide an estimate of the current wait time.\\n2. Call the hospital directly: Reach out to Hospital A\\'s main phone number or patient information line and ask about the current wait time. They should be able to provide you with an update.\\n3. Use a hospital finder app: There are several apps available that allow you to search for hospitals, check wait times, and even book appointments. Some popular options include Zocdoc, Healthgrades, and RateMDs.\\n\\nRemember to always verify the accuracy of any information you find online or through phone calls. If you have any further questions or concerns, feel free to ask!',\n",
       " 'intermediate_steps': []}"
      ]
     },
     "execution_count": 22,
     "metadata": {},
     "output_type": "execute_result"
    }
   ],
   "execution_count": 22
  },
  {
   "metadata": {
    "ExecuteTime": {
     "end_time": "2024-07-26T08:11:50.133814Z",
     "start_time": "2024-07-26T08:11:50.131863Z"
    }
   },
   "cell_type": "code",
   "source": "",
   "id": "eb2dea6a97d826b1",
   "outputs": [],
   "execution_count": 12
  }
 ],
 "metadata": {
  "kernelspec": {
   "display_name": "Python 3",
   "language": "python",
   "name": "python3"
  },
  "language_info": {
   "codemirror_mode": {
    "name": "ipython",
    "version": 2
   },
   "file_extension": ".py",
   "mimetype": "text/x-python",
   "name": "python",
   "nbconvert_exporter": "python",
   "pygments_lexer": "ipython2",
   "version": "2.7.6"
  }
 },
 "nbformat": 4,
 "nbformat_minor": 5
}
