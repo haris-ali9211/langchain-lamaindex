{
 "cells": [
  {
   "metadata": {
    "ExecuteTime": {
     "end_time": "2024-07-30T08:57:51.058932Z",
     "start_time": "2024-07-30T08:57:45.095737Z"
    }
   },
   "cell_type": "code",
   "source": "! pip install -U langchain-nomic langchain_community tiktoken langchainhub chromadb langchain langgraph tavily-python gpt4all firecrawl-py PyMuPDF sentence_transformers python-dotenv langchain_chroma python-docx\n",
   "id": "a76c0f4ec3e7b621",
   "outputs": [
    {
     "name": "stdout",
     "output_type": "stream",
     "text": [
      "Requirement already satisfied: langchain-nomic in ./venv/lib/python3.12/site-packages (0.1.2)\r\n",
      "Requirement already satisfied: langchain_community in ./venv/lib/python3.12/site-packages (0.2.10)\r\n",
      "Requirement already satisfied: tiktoken in ./venv/lib/python3.12/site-packages (0.7.0)\r\n",
      "Requirement already satisfied: langchainhub in ./venv/lib/python3.12/site-packages (0.1.20)\r\n",
      "Requirement already satisfied: chromadb in ./venv/lib/python3.12/site-packages (0.5.5)\r\n",
      "Requirement already satisfied: langchain in ./venv/lib/python3.12/site-packages (0.2.11)\r\n",
      "Requirement already satisfied: langgraph in ./venv/lib/python3.12/site-packages (0.1.15)\r\n",
      "Collecting langgraph\r\n",
      "  Downloading langgraph-0.1.16-py3-none-any.whl.metadata (13 kB)\r\n",
      "Requirement already satisfied: tavily-python in ./venv/lib/python3.12/site-packages (0.3.5)\r\n",
      "Requirement already satisfied: gpt4all in ./venv/lib/python3.12/site-packages (2.7.0)\r\n",
      "Requirement already satisfied: firecrawl-py in ./venv/lib/python3.12/site-packages (0.0.20)\r\n",
      "Requirement already satisfied: PyMuPDF in ./venv/lib/python3.12/site-packages (1.24.9)\r\n",
      "Requirement already satisfied: sentence_transformers in ./venv/lib/python3.12/site-packages (3.0.1)\r\n",
      "Requirement already satisfied: python-dotenv in ./venv/lib/python3.12/site-packages (1.0.1)\r\n",
      "Requirement already satisfied: langchain_chroma in ./venv/lib/python3.12/site-packages (0.1.2)\r\n",
      "Requirement already satisfied: python-docx in ./venv/lib/python3.12/site-packages (1.1.2)\r\n",
      "Requirement already satisfied: langchain-core<0.3,>=0.1.46 in ./venv/lib/python3.12/site-packages (from langchain-nomic) (0.2.23)\r\n",
      "Requirement already satisfied: nomic<4.0.0,>=3.0.29 in ./venv/lib/python3.12/site-packages (from langchain-nomic) (3.1.1)\r\n",
      "Requirement already satisfied: pillow<11.0.0,>=10.3.0 in ./venv/lib/python3.12/site-packages (from langchain-nomic) (10.4.0)\r\n",
      "Requirement already satisfied: PyYAML>=5.3 in ./venv/lib/python3.12/site-packages (from langchain_community) (6.0.1)\r\n",
      "Requirement already satisfied: SQLAlchemy<3,>=1.4 in ./venv/lib/python3.12/site-packages (from langchain_community) (2.0.31)\r\n",
      "Requirement already satisfied: aiohttp<4.0.0,>=3.8.3 in ./venv/lib/python3.12/site-packages (from langchain_community) (3.9.5)\r\n",
      "Requirement already satisfied: dataclasses-json<0.7,>=0.5.7 in ./venv/lib/python3.12/site-packages (from langchain_community) (0.6.7)\r\n",
      "Requirement already satisfied: langsmith<0.2.0,>=0.1.0 in ./venv/lib/python3.12/site-packages (from langchain_community) (0.1.93)\r\n",
      "Requirement already satisfied: numpy<2.0.0,>=1.26.0 in ./venv/lib/python3.12/site-packages (from langchain_community) (1.26.4)\r\n",
      "Requirement already satisfied: requests<3,>=2 in ./venv/lib/python3.12/site-packages (from langchain_community) (2.32.3)\r\n",
      "Requirement already satisfied: tenacity!=8.4.0,<9.0.0,>=8.1.0 in ./venv/lib/python3.12/site-packages (from langchain_community) (8.5.0)\r\n",
      "Requirement already satisfied: regex>=2022.1.18 in ./venv/lib/python3.12/site-packages (from tiktoken) (2024.5.15)\r\n",
      "Requirement already satisfied: packaging<25,>=23.2 in ./venv/lib/python3.12/site-packages (from langchainhub) (24.1)\r\n",
      "Requirement already satisfied: types-requests<3.0.0.0,>=2.31.0.2 in ./venv/lib/python3.12/site-packages (from langchainhub) (2.32.0.20240712)\r\n",
      "Requirement already satisfied: build>=1.0.3 in ./venv/lib/python3.12/site-packages (from chromadb) (1.2.1)\r\n",
      "Requirement already satisfied: pydantic>=1.9 in ./venv/lib/python3.12/site-packages (from chromadb) (2.8.2)\r\n",
      "Requirement already satisfied: chroma-hnswlib==0.7.6 in ./venv/lib/python3.12/site-packages (from chromadb) (0.7.6)\r\n",
      "Requirement already satisfied: fastapi>=0.95.2 in ./venv/lib/python3.12/site-packages (from chromadb) (0.111.1)\r\n",
      "Requirement already satisfied: uvicorn>=0.18.3 in ./venv/lib/python3.12/site-packages (from uvicorn[standard]>=0.18.3->chromadb) (0.30.3)\r\n",
      "Requirement already satisfied: posthog>=2.4.0 in ./venv/lib/python3.12/site-packages (from chromadb) (3.5.0)\r\n",
      "Requirement already satisfied: typing-extensions>=4.5.0 in ./venv/lib/python3.12/site-packages (from chromadb) (4.12.2)\r\n",
      "Requirement already satisfied: onnxruntime>=1.14.1 in ./venv/lib/python3.12/site-packages (from chromadb) (1.18.1)\r\n",
      "Requirement already satisfied: opentelemetry-api>=1.2.0 in ./venv/lib/python3.12/site-packages (from chromadb) (1.25.0)\r\n",
      "Requirement already satisfied: opentelemetry-exporter-otlp-proto-grpc>=1.2.0 in ./venv/lib/python3.12/site-packages (from chromadb) (1.25.0)\r\n",
      "Requirement already satisfied: opentelemetry-instrumentation-fastapi>=0.41b0 in ./venv/lib/python3.12/site-packages (from chromadb) (0.46b0)\r\n",
      "Requirement already satisfied: opentelemetry-sdk>=1.2.0 in ./venv/lib/python3.12/site-packages (from chromadb) (1.25.0)\r\n",
      "Requirement already satisfied: tokenizers>=0.13.2 in ./venv/lib/python3.12/site-packages (from chromadb) (0.19.1)\r\n",
      "Requirement already satisfied: pypika>=0.48.9 in ./venv/lib/python3.12/site-packages (from chromadb) (0.48.9)\r\n",
      "Requirement already satisfied: tqdm>=4.65.0 in ./venv/lib/python3.12/site-packages (from chromadb) (4.66.4)\r\n",
      "Requirement already satisfied: overrides>=7.3.1 in ./venv/lib/python3.12/site-packages (from chromadb) (7.7.0)\r\n",
      "Requirement already satisfied: importlib-resources in ./venv/lib/python3.12/site-packages (from chromadb) (6.4.0)\r\n",
      "Requirement already satisfied: grpcio>=1.58.0 in ./venv/lib/python3.12/site-packages (from chromadb) (1.65.1)\r\n",
      "Requirement already satisfied: bcrypt>=4.0.1 in ./venv/lib/python3.12/site-packages (from chromadb) (4.2.0)\r\n",
      "Requirement already satisfied: typer>=0.9.0 in ./venv/lib/python3.12/site-packages (from chromadb) (0.12.3)\r\n",
      "Requirement already satisfied: kubernetes>=28.1.0 in ./venv/lib/python3.12/site-packages (from chromadb) (30.1.0)\r\n",
      "Requirement already satisfied: mmh3>=4.0.1 in ./venv/lib/python3.12/site-packages (from chromadb) (4.1.0)\r\n",
      "Requirement already satisfied: orjson>=3.9.12 in ./venv/lib/python3.12/site-packages (from chromadb) (3.10.6)\r\n",
      "Requirement already satisfied: httpx>=0.27.0 in ./venv/lib/python3.12/site-packages (from chromadb) (0.27.0)\r\n",
      "Requirement already satisfied: langchain-text-splitters<0.3.0,>=0.2.0 in ./venv/lib/python3.12/site-packages (from langchain) (0.2.2)\r\n",
      "Requirement already satisfied: PyMuPDFb==1.24.9 in ./venv/lib/python3.12/site-packages (from PyMuPDF) (1.24.9)\r\n",
      "Requirement already satisfied: transformers<5.0.0,>=4.34.0 in ./venv/lib/python3.12/site-packages (from sentence_transformers) (4.42.4)\r\n",
      "Requirement already satisfied: torch>=1.11.0 in ./venv/lib/python3.12/site-packages (from sentence_transformers) (2.3.1)\r\n",
      "Requirement already satisfied: scikit-learn in ./venv/lib/python3.12/site-packages (from sentence_transformers) (1.5.1)\r\n",
      "Requirement already satisfied: scipy in ./venv/lib/python3.12/site-packages (from sentence_transformers) (1.14.0)\r\n",
      "Requirement already satisfied: huggingface-hub>=0.15.1 in ./venv/lib/python3.12/site-packages (from sentence_transformers) (0.23.5)\r\n",
      "Requirement already satisfied: lxml>=3.1.0 in ./venv/lib/python3.12/site-packages (from python-docx) (5.2.2)\r\n",
      "Requirement already satisfied: aiosignal>=1.1.2 in ./venv/lib/python3.12/site-packages (from aiohttp<4.0.0,>=3.8.3->langchain_community) (1.3.1)\r\n",
      "Requirement already satisfied: attrs>=17.3.0 in ./venv/lib/python3.12/site-packages (from aiohttp<4.0.0,>=3.8.3->langchain_community) (23.2.0)\r\n",
      "Requirement already satisfied: frozenlist>=1.1.1 in ./venv/lib/python3.12/site-packages (from aiohttp<4.0.0,>=3.8.3->langchain_community) (1.4.1)\r\n",
      "Requirement already satisfied: multidict<7.0,>=4.5 in ./venv/lib/python3.12/site-packages (from aiohttp<4.0.0,>=3.8.3->langchain_community) (6.0.5)\r\n",
      "Requirement already satisfied: yarl<2.0,>=1.0 in ./venv/lib/python3.12/site-packages (from aiohttp<4.0.0,>=3.8.3->langchain_community) (1.9.4)\r\n",
      "Requirement already satisfied: pyproject_hooks in ./venv/lib/python3.12/site-packages (from build>=1.0.3->chromadb) (1.1.0)\r\n",
      "Requirement already satisfied: marshmallow<4.0.0,>=3.18.0 in ./venv/lib/python3.12/site-packages (from dataclasses-json<0.7,>=0.5.7->langchain_community) (3.21.3)\r\n",
      "Requirement already satisfied: typing-inspect<1,>=0.4.0 in ./venv/lib/python3.12/site-packages (from dataclasses-json<0.7,>=0.5.7->langchain_community) (0.9.0)\r\n",
      "Requirement already satisfied: starlette<0.38.0,>=0.37.2 in ./venv/lib/python3.12/site-packages (from fastapi>=0.95.2->chromadb) (0.37.2)\r\n",
      "Requirement already satisfied: fastapi-cli>=0.0.2 in ./venv/lib/python3.12/site-packages (from fastapi>=0.95.2->chromadb) (0.0.4)\r\n",
      "Requirement already satisfied: jinja2>=2.11.2 in ./venv/lib/python3.12/site-packages (from fastapi>=0.95.2->chromadb) (3.1.4)\r\n",
      "Requirement already satisfied: python-multipart>=0.0.7 in ./venv/lib/python3.12/site-packages (from fastapi>=0.95.2->chromadb) (0.0.9)\r\n",
      "Requirement already satisfied: email_validator>=2.0.0 in ./venv/lib/python3.12/site-packages (from fastapi>=0.95.2->chromadb) (2.2.0)\r\n",
      "Requirement already satisfied: anyio in ./venv/lib/python3.12/site-packages (from httpx>=0.27.0->chromadb) (4.4.0)\r\n",
      "Requirement already satisfied: certifi in ./venv/lib/python3.12/site-packages (from httpx>=0.27.0->chromadb) (2024.7.4)\r\n",
      "Requirement already satisfied: httpcore==1.* in ./venv/lib/python3.12/site-packages (from httpx>=0.27.0->chromadb) (1.0.5)\r\n",
      "Requirement already satisfied: idna in ./venv/lib/python3.12/site-packages (from httpx>=0.27.0->chromadb) (3.7)\r\n",
      "Requirement already satisfied: sniffio in ./venv/lib/python3.12/site-packages (from httpx>=0.27.0->chromadb) (1.3.1)\r\n",
      "Requirement already satisfied: h11<0.15,>=0.13 in ./venv/lib/python3.12/site-packages (from httpcore==1.*->httpx>=0.27.0->chromadb) (0.14.0)\r\n",
      "Requirement already satisfied: filelock in ./venv/lib/python3.12/site-packages (from huggingface-hub>=0.15.1->sentence_transformers) (3.15.4)\r\n",
      "Requirement already satisfied: fsspec>=2023.5.0 in ./venv/lib/python3.12/site-packages (from huggingface-hub>=0.15.1->sentence_transformers) (2024.6.1)\r\n",
      "Requirement already satisfied: six>=1.9.0 in ./venv/lib/python3.12/site-packages (from kubernetes>=28.1.0->chromadb) (1.16.0)\r\n",
      "Requirement already satisfied: python-dateutil>=2.5.3 in ./venv/lib/python3.12/site-packages (from kubernetes>=28.1.0->chromadb) (2.9.0.post0)\r\n",
      "Requirement already satisfied: google-auth>=1.0.1 in ./venv/lib/python3.12/site-packages (from kubernetes>=28.1.0->chromadb) (2.32.0)\r\n",
      "Requirement already satisfied: websocket-client!=0.40.0,!=0.41.*,!=0.42.*,>=0.32.0 in ./venv/lib/python3.12/site-packages (from kubernetes>=28.1.0->chromadb) (1.8.0)\r\n",
      "Requirement already satisfied: requests-oauthlib in ./venv/lib/python3.12/site-packages (from kubernetes>=28.1.0->chromadb) (2.0.0)\r\n",
      "Requirement already satisfied: oauthlib>=3.2.2 in ./venv/lib/python3.12/site-packages (from kubernetes>=28.1.0->chromadb) (3.2.2)\r\n",
      "Requirement already satisfied: urllib3>=1.24.2 in ./venv/lib/python3.12/site-packages (from kubernetes>=28.1.0->chromadb) (2.2.2)\r\n",
      "Requirement already satisfied: jsonpatch<2.0,>=1.33 in ./venv/lib/python3.12/site-packages (from langchain-core<0.3,>=0.1.46->langchain-nomic) (1.33)\r\n",
      "Requirement already satisfied: click in ./venv/lib/python3.12/site-packages (from nomic<4.0.0,>=3.0.29->langchain-nomic) (8.1.7)\r\n",
      "Requirement already satisfied: jsonlines in ./venv/lib/python3.12/site-packages (from nomic<4.0.0,>=3.0.29->langchain-nomic) (4.0.0)\r\n",
      "Requirement already satisfied: loguru in ./venv/lib/python3.12/site-packages (from nomic<4.0.0,>=3.0.29->langchain-nomic) (0.7.2)\r\n",
      "Requirement already satisfied: rich in ./venv/lib/python3.12/site-packages (from nomic<4.0.0,>=3.0.29->langchain-nomic) (13.7.1)\r\n",
      "Requirement already satisfied: pandas in ./venv/lib/python3.12/site-packages (from nomic<4.0.0,>=3.0.29->langchain-nomic) (2.2.2)\r\n",
      "Requirement already satisfied: pyarrow in ./venv/lib/python3.12/site-packages (from nomic<4.0.0,>=3.0.29->langchain-nomic) (17.0.0)\r\n",
      "Requirement already satisfied: pyjwt in ./venv/lib/python3.12/site-packages (from nomic<4.0.0,>=3.0.29->langchain-nomic) (2.8.0)\r\n",
      "Requirement already satisfied: coloredlogs in ./venv/lib/python3.12/site-packages (from onnxruntime>=1.14.1->chromadb) (15.0.1)\r\n",
      "Requirement already satisfied: flatbuffers in ./venv/lib/python3.12/site-packages (from onnxruntime>=1.14.1->chromadb) (24.3.25)\r\n",
      "Requirement already satisfied: protobuf in ./venv/lib/python3.12/site-packages (from onnxruntime>=1.14.1->chromadb) (4.25.3)\r\n",
      "Requirement already satisfied: sympy in ./venv/lib/python3.12/site-packages (from onnxruntime>=1.14.1->chromadb) (1.13.1)\r\n",
      "Requirement already satisfied: deprecated>=1.2.6 in ./venv/lib/python3.12/site-packages (from opentelemetry-api>=1.2.0->chromadb) (1.2.14)\r\n",
      "Requirement already satisfied: importlib-metadata<=7.1,>=6.0 in ./venv/lib/python3.12/site-packages (from opentelemetry-api>=1.2.0->chromadb) (7.1.0)\r\n",
      "Requirement already satisfied: googleapis-common-protos~=1.52 in ./venv/lib/python3.12/site-packages (from opentelemetry-exporter-otlp-proto-grpc>=1.2.0->chromadb) (1.63.2)\r\n",
      "Requirement already satisfied: opentelemetry-exporter-otlp-proto-common==1.25.0 in ./venv/lib/python3.12/site-packages (from opentelemetry-exporter-otlp-proto-grpc>=1.2.0->chromadb) (1.25.0)\r\n",
      "Requirement already satisfied: opentelemetry-proto==1.25.0 in ./venv/lib/python3.12/site-packages (from opentelemetry-exporter-otlp-proto-grpc>=1.2.0->chromadb) (1.25.0)\r\n",
      "Requirement already satisfied: opentelemetry-instrumentation-asgi==0.46b0 in ./venv/lib/python3.12/site-packages (from opentelemetry-instrumentation-fastapi>=0.41b0->chromadb) (0.46b0)\r\n",
      "Requirement already satisfied: opentelemetry-instrumentation==0.46b0 in ./venv/lib/python3.12/site-packages (from opentelemetry-instrumentation-fastapi>=0.41b0->chromadb) (0.46b0)\r\n",
      "Requirement already satisfied: opentelemetry-semantic-conventions==0.46b0 in ./venv/lib/python3.12/site-packages (from opentelemetry-instrumentation-fastapi>=0.41b0->chromadb) (0.46b0)\r\n",
      "Requirement already satisfied: opentelemetry-util-http==0.46b0 in ./venv/lib/python3.12/site-packages (from opentelemetry-instrumentation-fastapi>=0.41b0->chromadb) (0.46b0)\r\n",
      "Requirement already satisfied: setuptools>=16.0 in ./venv/lib/python3.12/site-packages (from opentelemetry-instrumentation==0.46b0->opentelemetry-instrumentation-fastapi>=0.41b0->chromadb) (71.1.0)\r\n",
      "Requirement already satisfied: wrapt<2.0.0,>=1.0.0 in ./venv/lib/python3.12/site-packages (from opentelemetry-instrumentation==0.46b0->opentelemetry-instrumentation-fastapi>=0.41b0->chromadb) (1.16.0)\r\n",
      "Requirement already satisfied: asgiref~=3.0 in ./venv/lib/python3.12/site-packages (from opentelemetry-instrumentation-asgi==0.46b0->opentelemetry-instrumentation-fastapi>=0.41b0->chromadb) (3.8.1)\r\n",
      "Requirement already satisfied: monotonic>=1.5 in ./venv/lib/python3.12/site-packages (from posthog>=2.4.0->chromadb) (1.6)\r\n",
      "Requirement already satisfied: backoff>=1.10.0 in ./venv/lib/python3.12/site-packages (from posthog>=2.4.0->chromadb) (2.2.1)\r\n",
      "Requirement already satisfied: annotated-types>=0.4.0 in ./venv/lib/python3.12/site-packages (from pydantic>=1.9->chromadb) (0.7.0)\r\n",
      "Requirement already satisfied: pydantic-core==2.20.1 in ./venv/lib/python3.12/site-packages (from pydantic>=1.9->chromadb) (2.20.1)\r\n",
      "Requirement already satisfied: charset-normalizer<4,>=2 in ./venv/lib/python3.12/site-packages (from requests<3,>=2->langchain_community) (3.3.2)\r\n",
      "Requirement already satisfied: networkx in ./venv/lib/python3.12/site-packages (from torch>=1.11.0->sentence_transformers) (3.3)\r\n",
      "Requirement already satisfied: safetensors>=0.4.1 in ./venv/lib/python3.12/site-packages (from transformers<5.0.0,>=4.34.0->sentence_transformers) (0.4.3)\r\n",
      "Requirement already satisfied: shellingham>=1.3.0 in ./venv/lib/python3.12/site-packages (from typer>=0.9.0->chromadb) (1.5.4)\r\n",
      "Requirement already satisfied: httptools>=0.5.0 in ./venv/lib/python3.12/site-packages (from uvicorn[standard]>=0.18.3->chromadb) (0.6.1)\r\n",
      "Requirement already satisfied: uvloop!=0.15.0,!=0.15.1,>=0.14.0 in ./venv/lib/python3.12/site-packages (from uvicorn[standard]>=0.18.3->chromadb) (0.19.0)\r\n",
      "Requirement already satisfied: watchfiles>=0.13 in ./venv/lib/python3.12/site-packages (from uvicorn[standard]>=0.18.3->chromadb) (0.22.0)\r\n",
      "Requirement already satisfied: websockets>=10.4 in ./venv/lib/python3.12/site-packages (from uvicorn[standard]>=0.18.3->chromadb) (12.0)\r\n",
      "Requirement already satisfied: joblib>=1.2.0 in ./venv/lib/python3.12/site-packages (from scikit-learn->sentence_transformers) (1.4.2)\r\n",
      "Requirement already satisfied: threadpoolctl>=3.1.0 in ./venv/lib/python3.12/site-packages (from scikit-learn->sentence_transformers) (3.5.0)\r\n",
      "Requirement already satisfied: dnspython>=2.0.0 in ./venv/lib/python3.12/site-packages (from email_validator>=2.0.0->fastapi>=0.95.2->chromadb) (2.6.1)\r\n",
      "Requirement already satisfied: cachetools<6.0,>=2.0.0 in ./venv/lib/python3.12/site-packages (from google-auth>=1.0.1->kubernetes>=28.1.0->chromadb) (5.4.0)\r\n",
      "Requirement already satisfied: pyasn1-modules>=0.2.1 in ./venv/lib/python3.12/site-packages (from google-auth>=1.0.1->kubernetes>=28.1.0->chromadb) (0.4.0)\r\n",
      "Requirement already satisfied: rsa<5,>=3.1.4 in ./venv/lib/python3.12/site-packages (from google-auth>=1.0.1->kubernetes>=28.1.0->chromadb) (4.9)\r\n",
      "Requirement already satisfied: zipp>=0.5 in ./venv/lib/python3.12/site-packages (from importlib-metadata<=7.1,>=6.0->opentelemetry-api>=1.2.0->chromadb) (3.19.2)\r\n",
      "Requirement already satisfied: MarkupSafe>=2.0 in ./venv/lib/python3.12/site-packages (from jinja2>=2.11.2->fastapi>=0.95.2->chromadb) (2.1.5)\r\n",
      "Requirement already satisfied: jsonpointer>=1.9 in ./venv/lib/python3.12/site-packages (from jsonpatch<2.0,>=1.33->langchain-core<0.3,>=0.1.46->langchain-nomic) (3.0.0)\r\n",
      "Requirement already satisfied: markdown-it-py>=2.2.0 in ./venv/lib/python3.12/site-packages (from rich->nomic<4.0.0,>=3.0.29->langchain-nomic) (3.0.0)\r\n",
      "Requirement already satisfied: pygments<3.0.0,>=2.13.0 in ./venv/lib/python3.12/site-packages (from rich->nomic<4.0.0,>=3.0.29->langchain-nomic) (2.18.0)\r\n",
      "Requirement already satisfied: mypy-extensions>=0.3.0 in ./venv/lib/python3.12/site-packages (from typing-inspect<1,>=0.4.0->dataclasses-json<0.7,>=0.5.7->langchain_community) (1.0.0)\r\n",
      "Requirement already satisfied: humanfriendly>=9.1 in ./venv/lib/python3.12/site-packages (from coloredlogs->onnxruntime>=1.14.1->chromadb) (10.0)\r\n",
      "Requirement already satisfied: pytz>=2020.1 in ./venv/lib/python3.12/site-packages (from pandas->nomic<4.0.0,>=3.0.29->langchain-nomic) (2024.1)\r\n",
      "Requirement already satisfied: tzdata>=2022.7 in ./venv/lib/python3.12/site-packages (from pandas->nomic<4.0.0,>=3.0.29->langchain-nomic) (2024.1)\r\n",
      "Requirement already satisfied: mpmath<1.4,>=1.1.0 in ./venv/lib/python3.12/site-packages (from sympy->onnxruntime>=1.14.1->chromadb) (1.3.0)\r\n",
      "Requirement already satisfied: mdurl~=0.1 in ./venv/lib/python3.12/site-packages (from markdown-it-py>=2.2.0->rich->nomic<4.0.0,>=3.0.29->langchain-nomic) (0.1.2)\r\n",
      "Requirement already satisfied: pyasn1<0.7.0,>=0.4.6 in ./venv/lib/python3.12/site-packages (from pyasn1-modules>=0.2.1->google-auth>=1.0.1->kubernetes>=28.1.0->chromadb) (0.6.0)\r\n",
      "Downloading langgraph-0.1.16-py3-none-any.whl (102 kB)\r\n",
      "\u001B[2K   \u001B[90m━━━━━━━━━━━━━━━━━━━━━━━━━━━━━━━━━━━━━━━\u001B[0m \u001B[32m102.6/102.6 kB\u001B[0m \u001B[31m610.2 kB/s\u001B[0m eta \u001B[36m0:00:00\u001B[0m00:01\u001B[0m00:01\u001B[0m\r\n",
      "\u001B[?25hInstalling collected packages: langgraph\r\n",
      "  Attempting uninstall: langgraph\r\n",
      "    Found existing installation: langgraph 0.1.15\r\n",
      "    Uninstalling langgraph-0.1.15:\r\n",
      "      Successfully uninstalled langgraph-0.1.15\r\n",
      "Successfully installed langgraph-0.1.16\r\n",
      "\r\n",
      "\u001B[1m[\u001B[0m\u001B[34;49mnotice\u001B[0m\u001B[1;39;49m]\u001B[0m\u001B[39;49m A new release of pip is available: \u001B[0m\u001B[31;49m24.1.2\u001B[0m\u001B[39;49m -> \u001B[0m\u001B[32;49m24.2\u001B[0m\r\n",
      "\u001B[1m[\u001B[0m\u001B[34;49mnotice\u001B[0m\u001B[1;39;49m]\u001B[0m\u001B[39;49m To update, run: \u001B[0m\u001B[32;49mpip install --upgrade pip\u001B[0m\r\n"
     ]
    }
   ],
   "execution_count": 1
  },
  {
   "metadata": {
    "ExecuteTime": {
     "end_time": "2024-07-30T08:57:51.537638Z",
     "start_time": "2024-07-30T08:57:51.060283Z"
    }
   },
   "cell_type": "code",
   "source": [
    "import os\n",
    "from langchain_community.vectorstores import Chroma\n",
    "from langchain_community.document_loaders import PyMuPDFLoader\n",
    "from langchain.docstore.document import Document\n",
    "from langchain_text_splitters import RecursiveCharacterTextSplitter\n",
    "from langchain_community.embeddings import GPT4AllEmbeddings\n",
    "from langchain_community.chat_models import ChatOllama\n",
    "from langchain.prompts import (\n",
    "    ChatPromptTemplate,\n",
    "    MessagesPlaceholder\n",
    ")\n",
    "from langchain.chains import create_history_aware_retriever\n",
    "from langchain.chains import create_retrieval_chain\n",
    "from langchain.chains.combine_documents import create_stuff_documents_chain\n",
    "from langchain_core.messages import HumanMessage\n",
    "from docx import Document as DocxDocument"
   ],
   "id": "26df3b179acc78c9",
   "outputs": [],
   "execution_count": 2
  },
  {
   "metadata": {
    "ExecuteTime": {
     "end_time": "2024-07-30T08:57:51.539688Z",
     "start_time": "2024-07-30T08:57:51.538226Z"
    }
   },
   "cell_type": "code",
   "source": [
    "# local_llm = 'gemma'\n",
    "# local_llm = 'llama3'\n",
    "local_llm = 'llama3.1'\n",
    "# local_llm = 'mistral'"
   ],
   "id": "eea2da1bf3272441",
   "outputs": [],
   "execution_count": 3
  },
  {
   "metadata": {
    "ExecuteTime": {
     "end_time": "2024-07-30T08:57:59.152782Z",
     "start_time": "2024-07-30T08:57:51.541172Z"
    }
   },
   "cell_type": "code",
   "source": [
    "# Directory to check\n",
    "cascade_directory = \"./data/cascade\"\n",
    "policy_directory = \"./data/policy\"\n",
    "\n",
    "directories = [cascade_directory, policy_directory]\n",
    "\n",
    "\n",
    "# Lists to store file paths\n",
    "pdf_file_paths = []\n",
    "docx_file_paths = []\n",
    "\n",
    "# Check for files in the directory\n",
    "for directory in directories:\n",
    "    for filename in os.listdir(directory):\n",
    "        print(filename)\n",
    "        if filename.endswith(\".pdf\"):\n",
    "            pdf_file_paths.append(os.path.join(directory, filename))\n",
    "        elif filename.endswith(\".docx\"):\n",
    "            docx_file_paths.append(os.path.join(directory, filename))\n",
    "\n",
    "docs_list = []\n",
    "\n",
    "# Load PDF files\n",
    "for pdf_path in pdf_file_paths:\n",
    "    loader = PyMuPDFLoader(pdf_path)\n",
    "    try:\n",
    "        loaded_docs = loader.load()\n",
    "        docs_list.extend(loaded_docs)\n",
    "    except Exception as e:\n",
    "        print(f\"Error loading {pdf_path}: {e}\")\n",
    "\n",
    "# Load DOCX files\n",
    "for docx_path in docx_file_paths:\n",
    "    try:\n",
    "        docx = DocxDocument(docx_path)\n",
    "        full_text = []\n",
    "        for para in docx.paragraphs:\n",
    "            full_text.append(para.text)\n",
    "        docx_text = '\\n'.join(full_text)\n",
    "        docs_list.append(Document(page_content=docx_text, metadata={\"source\": docx_path}))\n",
    "    except Exception as e:\n",
    "        print(f\"Error loading {docx_path}: {e}\")\n",
    "\n",
    "# Split documents\n",
    "text_splitter = RecursiveCharacterTextSplitter.from_tiktoken_encoder(chunk_size=250, chunk_overlap=0)\n",
    "doc_splitter = text_splitter.split_documents(docs_list)\n",
    "\n",
    "# Filter and clean metadata\n",
    "filtered_doc = []\n",
    "for doc in doc_splitter:\n",
    "    if isinstance(doc, Document) and hasattr(doc, 'metadata'):\n",
    "        clean_metadata = {k: v for k, v in doc.metadata.items() if isinstance(v, (str, int, float, bool))}\n",
    "        filtered_doc.append(Document(page_content=doc.page_content, metadata=clean_metadata))\n",
    "\n",
    "# Add to vectorDB\n",
    "embedding = GPT4AllEmbeddings(model_name=\"all-MiniLM-L6-v2.gguf2.f16.gguf\", gpt4all_kwargs={'allow_download': 'True'})\n",
    "vectorstore = Chroma.from_documents(\n",
    "    documents=filtered_doc,\n",
    "    collection_name=\"rag-chroma\",\n",
    "    embedding=embedding,\n",
    ")\n",
    "\n",
    "retriever = vectorstore.as_retriever()\n"
   ],
   "id": "e56d6d5c8345cd89",
   "outputs": [
    {
     "name": "stdout",
     "output_type": "stream",
     "text": [
      ".DS_Store\n",
      "Cascade features.pdf\n",
      "CASCADE_USERS.docx\n",
      "CASCADE_ADMINISTRATION_GUIDE.docx\n",
      "CASCADE_USER_GUIDE_V6 (USER JOURNEYS).docx\n",
      "DCL_WORKFLOW.pdf\n",
      "MORTGAGE_GUIDE-compressed.pdf\n",
      "DCF_WORKFLOW.pdf\n",
      "CASCADE_FEATURES.docx\n",
      "Medical Policy FY 23-24.pdf\n",
      ".DS_Store\n",
      "Provident fund policy.pdf\n"
     ]
    }
   ],
   "execution_count": 4
  },
  {
   "metadata": {
    "ExecuteTime": {
     "end_time": "2024-07-30T08:57:59.157030Z",
     "start_time": "2024-07-30T08:57:59.153603Z"
    }
   },
   "cell_type": "code",
   "source": "directories",
   "id": "4f018c34a21ca45e",
   "outputs": [
    {
     "data": {
      "text/plain": [
       "['./data/cascade', './data/policy']"
      ]
     },
     "execution_count": 5,
     "metadata": {},
     "output_type": "execute_result"
    }
   ],
   "execution_count": 5
  },
  {
   "metadata": {
    "ExecuteTime": {
     "end_time": "2024-07-30T08:57:59.160271Z",
     "start_time": "2024-07-30T08:57:59.157768Z"
    }
   },
   "cell_type": "code",
   "source": "llm = ChatOllama(model=local_llm, temperature=0)",
   "id": "e72daeaa52d6ff75",
   "outputs": [],
   "execution_count": 6
  },
  {
   "metadata": {
    "ExecuteTime": {
     "end_time": "2024-07-30T08:57:59.163053Z",
     "start_time": "2024-07-30T08:57:59.160837Z"
    }
   },
   "cell_type": "code",
   "source": [
    "contextualize_q_system_prompt = \"\"\"Given a chat history and the latest user question \\\n",
    "which might reference context in the chat history, formulate a standalone question \\\n",
    "which can be understood without the chat history. Do NOT answer the question, \\\n",
    "just reformulate it if needed and otherwise return it as is.\"\"\"\n",
    "contextualize_q_prompt = ChatPromptTemplate.from_messages(\n",
    "    [\n",
    "        (\"system\", contextualize_q_system_prompt),\n",
    "        MessagesPlaceholder(\"chat_history\"),\n",
    "        (\"human\", \"{input}\"),\n",
    "    ]\n",
    ")\n",
    "history_aware_retriever = create_history_aware_retriever(\n",
    "    llm, retriever, contextualize_q_prompt\n",
    ")"
   ],
   "id": "316640d407f141c",
   "outputs": [],
   "execution_count": 7
  },
  {
   "metadata": {
    "ExecuteTime": {
     "end_time": "2024-07-30T08:57:59.165737Z",
     "start_time": "2024-07-30T08:57:59.163622Z"
    }
   },
   "cell_type": "code",
   "source": [
    "qa_system_prompt = \"\"\"system You are an assistant for question-answering tasks. Use the following context to answer the question. Avoid phrases like \"Based on the provided context\". Explain the answer in the end. and make a heading with paragraph.\n",
    "Question: {input}\n",
    "Context: {context}\n",
    "Answer: assistant\"\"\"\n",
    "qa_prompt = ChatPromptTemplate.from_messages(\n",
    "    [\n",
    "        (\"system\", qa_system_prompt),\n",
    "        MessagesPlaceholder(\"chat_history\"),\n",
    "        (\"human\", \"{input}\"),\n",
    "    ]\n",
    ")\n",
    "\n",
    "question_answer_chain = create_stuff_documents_chain(llm, qa_prompt)\n",
    "\n",
    "rag_chain = create_retrieval_chain(history_aware_retriever, question_answer_chain)"
   ],
   "id": "9472f593aac1a996",
   "outputs": [],
   "execution_count": 8
  },
  {
   "metadata": {
    "ExecuteTime": {
     "end_time": "2024-07-30T08:57:59.167795Z",
     "start_time": "2024-07-30T08:57:59.166380Z"
    }
   },
   "cell_type": "code",
   "source": "chat_history = []",
   "id": "d4322da395ccb17d",
   "outputs": [],
   "execution_count": 9
  },
  {
   "metadata": {
    "ExecuteTime": {
     "end_time": "2024-07-30T08:58:16.592884Z",
     "start_time": "2024-07-30T08:57:59.169700Z"
    }
   },
   "cell_type": "code",
   "source": [
    "question = \"Explain the significance of document management within Cascade™.\"\n",
    "ai_msg_1 = rag_chain.invoke({\"input\": question, \"chat_history\": chat_history})\n",
    "chat_history.extend([HumanMessage(content=question), ai_msg_1[\"answer\"]])"
   ],
   "id": "cfb07aa3851e9873",
   "outputs": [],
   "execution_count": 10
  },
  {
   "metadata": {
    "ExecuteTime": {
     "end_time": "2024-07-30T08:59:05.407609Z",
     "start_time": "2024-07-30T08:59:05.404814Z"
    }
   },
   "cell_type": "code",
   "source": "print(ai_msg_1[\"answer\"])",
   "id": "45d2b8a1b233625a",
   "outputs": [
    {
     "name": "stdout",
     "output_type": "stream",
     "text": [
      "**Document Management in Cascade**\n",
      "\n",
      "The Document Management module in Cascade is a crucial feature that enables users to manage documents end-to-end, from creation to storage, archiving, and retrieval using indexing. This module's flexibility allows it to be enabled at any stage of the loan application lifecycle.\n",
      "\n",
      "**Key Features and Significance**\n",
      "\n",
      "1. **Document Upload**: Users can upload documents using file upload or browser extension, making it easy to add relevant documents to the system.\n",
      "2. **Document Versioning and Retrieval**: The module allows users to track document versions and retrieve previous versions, ensuring that all changes are recorded and accessible.\n",
      "3. **Document Tagging**: Documents can be tagged with respect to their type, making it easier to categorize and search for specific documents.\n",
      "4. **Document Preview**: Users can preview documents with features like rotate, zoom, and search, allowing them to quickly review document content.\n",
      "5. **Document Thumbnail and Search**: The module provides a thumbnail view of documents and enables searching, making it easy to locate specific documents.\n",
      "6. **Association with Checklist and Discrepancy Resolution**: Documents can be associated with checklists and discrepancy resolution processes, ensuring that all relevant documents are considered during the loan application process.\n",
      "\n",
      "**Importance**\n",
      "\n",
      "The Document Management module in Cascade is significant because it:\n",
      "\n",
      "* Ensures that all relevant documents are stored and easily accessible\n",
      "* Allows users to track document versions and changes\n",
      "* Facilitates efficient searching and retrieval of documents\n",
      "* Supports the loan application process by associating documents with checklists and discrepancy resolution processes\n",
      "\n",
      "Overall, the Document Management module in Cascade is a critical feature that enhances the overall efficiency and effectiveness of the loan management system.\n"
     ]
    }
   ],
   "execution_count": 15
  },
  {
   "metadata": {},
   "cell_type": "markdown",
   "source": "",
   "id": "3a95e34edf241e94"
  },
  {
   "metadata": {
    "ExecuteTime": {
     "end_time": "2024-07-30T08:58:34.682392Z",
     "start_time": "2024-07-30T08:58:16.596312Z"
    }
   },
   "cell_type": "code",
   "source": [
    "second_question = \"What are common ways of doing it?\"\n",
    "ai_msg_2 = rag_chain.invoke({\"input\": second_question, \"chat_history\": chat_history})\n",
    "\n",
    "print(ai_msg_2[\"answer\"])"
   ],
   "id": "a0e4e8b71b62c781",
   "outputs": [
    {
     "name": "stdout",
     "output_type": "stream",
     "text": [
      "**Common Ways of Managing Documents in Cascade**\n",
      "\n",
      "The Document Management module in Cascade offers several features to manage documents effectively. Some common ways of managing documents in Cascade include:\n",
      "\n",
      "1. **Uploading documents**: Users can upload documents using file upload or browser extension, making it easy to add relevant documents to the system.\n",
      "2. **Versioning and retrieval**: The module allows users to track document versions and retrieve previous versions, ensuring that all changes are recorded and accessible.\n",
      "3. **Tagging documents**: Documents can be tagged with respect to their type, making it easier to categorize and search for specific documents.\n",
      "4. **Previewing documents**: Users can preview documents with features like rotate, zoom, and search, allowing them to quickly review document content.\n",
      "5. **Searching and retrieving documents**: The module provides a thumbnail view of documents and enables searching, making it easy to locate specific documents.\n",
      "\n",
      "These common ways of managing documents in Cascade ensure that all relevant documents are stored and easily accessible, facilitating efficient searching and retrieval of documents.\n",
      "\n",
      "**Explanation**\n",
      "\n",
      "The Document Management module in Cascade is designed to manage documents end-to-end, from creation to storage, archiving, and retrieval using indexing. The module's flexibility allows it to be enabled at any stage of the loan application lifecycle. By providing features like document upload, versioning, tagging, previewing, and searching, the module ensures that all relevant documents are stored and easily accessible, facilitating efficient searching and retrieval of documents. This enhances the overall efficiency and effectiveness of the loan management system.\n"
     ]
    }
   ],
   "execution_count": 12
  },
  {
   "metadata": {
    "ExecuteTime": {
     "end_time": "2024-07-30T08:58:34.687909Z",
     "start_time": "2024-07-30T08:58:34.683289Z"
    }
   },
   "cell_type": "code",
   "source": "chat_history",
   "id": "8301e127573750c3",
   "outputs": [
    {
     "data": {
      "text/plain": [
       "[HumanMessage(content='Explain the significance of document management within Cascade™.'),\n",
       " \"**Document Management in Cascade**\\n\\nThe Document Management module in Cascade is a crucial feature that enables users to manage documents end-to-end, from creation to storage, archiving, and retrieval using indexing. This module's flexibility allows it to be enabled at any stage of the loan application lifecycle.\\n\\n**Key Features and Significance**\\n\\n1. **Document Upload**: Users can upload documents using file upload or browser extension, making it easy to add relevant documents to the system.\\n2. **Document Versioning and Retrieval**: The module allows users to track document versions and retrieve previous versions, ensuring that all changes are recorded and accessible.\\n3. **Document Tagging**: Documents can be tagged with respect to their type, making it easier to categorize and search for specific documents.\\n4. **Document Preview**: Users can preview documents with features like rotate, zoom, and search, allowing them to quickly review document content.\\n5. **Document Thumbnail and Search**: The module provides a thumbnail view of documents and enables searching, making it easy to locate specific documents.\\n6. **Association with Checklist and Discrepancy Resolution**: Documents can be associated with checklists and discrepancy resolution processes, ensuring that all relevant documents are considered during the loan application process.\\n\\n**Importance**\\n\\nThe Document Management module in Cascade is significant because it:\\n\\n* Ensures that all relevant documents are stored and easily accessible\\n* Allows users to track document versions and changes\\n* Facilitates efficient searching and retrieval of documents\\n* Supports the loan application process by associating documents with checklists and discrepancy resolution processes\\n\\nOverall, the Document Management module in Cascade is a critical feature that enhances the overall efficiency and effectiveness of the loan management system.\"]"
      ]
     },
     "execution_count": 13,
     "metadata": {},
     "output_type": "execute_result"
    }
   ],
   "execution_count": 13
  },
  {
   "metadata": {
    "ExecuteTime": {
     "end_time": "2024-07-30T08:58:34.690933Z",
     "start_time": "2024-07-30T08:58:34.689057Z"
    }
   },
   "cell_type": "code",
   "source": [
    "for document in ai_msg_1[\"context\"]:\n",
    "    print(document)"
   ],
   "id": "8c805857b967006b",
   "outputs": [
    {
     "name": "stdout",
     "output_type": "stream",
     "text": [
      "page_content='This module covers the complete functionality of document management in Cascade suite. It includes end to end management of document, along with its lifecycle, storage archiving and retrieval using indexing. Due to flexible nature of the module, it can be enabled using configuration at any stage of the loan application lifecycle. This module has the following features which enable users to utilize complete functionality while working on Cascade suite.\n",
      "Document upload using file upload or browser extension.\n",
      "Document versioning and retrieval\n",
      "Document tagging with respect to the type.\n",
      "Document preview with rotate, zoom and search.\n",
      "Document thumbnail and search for easy access\n",
      "Association of documents with checklist and discrepancy resolution' metadata={'source': './data/cascade/CASCADE_FEATURES.docx'}\n",
      "page_content='or a similar integration channel. SAF (store and forward) mechanism ensures robustness at this stage. \n",
      "In case of limit creation, relevant entries are passed in the core banking or accounting system, along with creating \n",
      "a running finance account used to withdraw and move funds based on the assigned limit. The actual movement of \n",
      "funds is on-demand when the user utilizes the limit assigned to them. \n",
      " \n",
      " \n",
      "Document Management \n",
      "This module covers the complete functionality of document management in Cascade suite. It includes end to end \n",
      "management of document, along with its lifecycle, storage archiving and retrieval using indexing. Due to flexible \n",
      "nature of the module, it can be enabled using configuration at any stage of the loan application lifecycle. This \n",
      "module has the following features which enable users to utilize complete functionality while working on Cascade \n",
      "suite. \n",
      "1. Document upload using file upload or browser extension.' metadata={'author': 'Hasan Aamir', 'creationDate': \"D:20230301172003+05'00'\", 'creator': 'Microsoft® Word for Microsoft 365', 'file_path': './data/cascade/Cascade features.pdf', 'format': 'PDF 1.7', 'keywords': '', 'modDate': \"D:20230301172003+05'00'\", 'page': 15, 'producer': 'Microsoft® Word for Microsoft 365', 'source': './data/cascade/Cascade features.pdf', 'subject': '', 'title': '', 'total_pages': 26, 'trapped': ''}\n",
      "page_content='Cascade™ Collections – Optional Module Offered\n",
      "The product consists of an end-to-end loan collections system that covers all aspects of the collection-related processes and procedures. These aspects are mentioned in detail in the following sections.\n",
      "Data Ingestion\n",
      "This module governs the process which feeds the data from the Core Banking System or Cascade Asset Management module, whichever the case may be. In the case of Core Banking System, ETL is used to ingest the data, whereas, for Cascade Management, data can natively travel to the collection module for onward processing.\n",
      "The data is fed for individual loan types to provide the flexibility of defining separate processing rules and conditions as per the product. The data includes particulars of each loan account that is active in the loan management system with respect to the following attributes:\n",
      "Basic product information\n",
      "Customer details\n",
      "Contact details\n",
      "Limits and collaterals\n",
      "Installments (in case of term finance)\n",
      "Withdrawals (in case of running finance)\n",
      "Repayments' metadata={'source': './data/cascade/CASCADE_FEATURES.docx'}\n",
      "page_content='18 \n",
      " \n",
      "Cascade™ Collections – Optional Module Offered \n",
      "The product consists of an end-to-end loan collections system that covers all aspects of the collection-related \n",
      "processes and procedures. These aspects are mentioned in detail in the following sections. \n",
      "Data Ingestion \n",
      "This module governs the process which feeds the data from the Core Banking System or Cascade Asset \n",
      "Management module, whichever the case may be. In the case of Core Banking System, ETL is used to ingest the \n",
      "data, whereas, for Cascade Management, data can natively travel to the collection module for onward processing. \n",
      "The data is fed for individual loan types to provide the flexibility of defining separate processing rules and \n",
      "conditions as per the product. The data includes particulars of each loan account that is active in the loan \n",
      "management system with respect to the following attributes: \n",
      "1. Basic product information \n",
      "2. Customer details \n",
      "3. Contact details \n",
      "4. Limits and collaterals \n",
      "5. Installments (in case of term finance) \n",
      "6. Withdrawals (in case of running finance) \n",
      "7. Repayments' metadata={'author': 'Hasan Aamir', 'creationDate': \"D:20230301172003+05'00'\", 'creator': 'Microsoft® Word for Microsoft 365', 'file_path': './data/cascade/Cascade features.pdf', 'format': 'PDF 1.7', 'keywords': '', 'modDate': \"D:20230301172003+05'00'\", 'page': 20, 'producer': 'Microsoft® Word for Microsoft 365', 'source': './data/cascade/Cascade features.pdf', 'subject': '', 'title': '', 'total_pages': 26, 'trapped': ''}\n"
     ]
    }
   ],
   "execution_count": 14
  },
  {
   "metadata": {
    "ExecuteTime": {
     "end_time": "2024-07-30T08:58:34.693366Z",
     "start_time": "2024-07-30T08:58:34.691968Z"
    }
   },
   "cell_type": "code",
   "source": "",
   "id": "d1aa98fb0966235c",
   "outputs": [],
   "execution_count": 14
  }
 ],
 "metadata": {
  "kernelspec": {
   "display_name": "Python 3",
   "language": "python",
   "name": "python3"
  },
  "language_info": {
   "codemirror_mode": {
    "name": "ipython",
    "version": 2
   },
   "file_extension": ".py",
   "mimetype": "text/x-python",
   "name": "python",
   "nbconvert_exporter": "python",
   "pygments_lexer": "ipython2",
   "version": "2.7.6"
  }
 },
 "nbformat": 4,
 "nbformat_minor": 5
}
