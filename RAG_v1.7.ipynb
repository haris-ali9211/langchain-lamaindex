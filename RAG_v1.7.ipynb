{
 "cells": [
  {
   "cell_type": "code",
   "execution_count": null,
   "id": "initial_id",
   "metadata": {
    "collapsed": true
   },
   "outputs": [],
   "source": [
    "# Install necessary libraries\n",
    "!pip install pytesseract langchain_community langchain_core pytesseract langchain PIL "
   ]
  },
  {
   "metadata": {
    "ExecuteTime": {
     "end_time": "2024-08-06T15:45:15.811611Z",
     "start_time": "2024-08-06T15:45:15.807201Z"
    }
   },
   "cell_type": "code",
   "source": [
    "import pytesseract\n",
    "from PIL import Image\n",
    "from langchain.docstore.document import Document\n",
    "from langchain_community.chat_models import ChatOllama\n",
    "from langchain.prompts import (\n",
    "    ChatPromptTemplate,\n",
    "    MessagesPlaceholder\n",
    ")\n",
    "from langchain.chains.combine_documents import create_stuff_documents_chain\n",
    "from langchain_core.messages import HumanMessage\n"
   ],
   "id": "e737ca845e416c7f",
   "outputs": [],
   "execution_count": 17
  },
  {
   "metadata": {
    "ExecuteTime": {
     "end_time": "2024-08-06T15:45:16.667079Z",
     "start_time": "2024-08-06T15:45:16.332214Z"
    }
   },
   "cell_type": "code",
   "source": [
    "# Load the image of the income statement\n",
    "image_path = './data/test/is.jpg'\n",
    "image = Image.open(image_path)\n",
    "\n",
    "# Use Tesseract to extract text from the image\n",
    "extracted_text = pytesseract.image_to_string(image)\n",
    "# Save the extracted text to a text file\n",
    "output_text_file = './data/test/extracted_text.txt'\n",
    "with open(output_text_file, 'w') as file:\n",
    "    file.write(extracted_text)\n",
    "\n",
    "print(f\"Extracted text has been saved to {output_text_file}\")"
   ],
   "id": "4716004e42591a30",
   "outputs": [
    {
     "name": "stdout",
     "output_type": "stream",
     "text": [
      "Extracted text has been saved to ./data/test/extracted_text.txt\n"
     ]
    }
   ],
   "execution_count": 18
  },
  {
   "metadata": {
    "ExecuteTime": {
     "end_time": "2024-08-06T15:45:17.654720Z",
     "start_time": "2024-08-06T15:45:17.645407Z"
    }
   },
   "cell_type": "code",
   "source": [
    "# local_llm = 'gemma'\n",
    "local_llm = 'llama3'\n",
    "# local_llm = 'llama3.1'\n",
    "# local_llm = 'mistral'\n",
    "\n",
    "llm = ChatOllama(model=local_llm, temperature=0)"
   ],
   "id": "7d4fe73e51735fdf",
   "outputs": [],
   "execution_count": 19
  },
  {
   "metadata": {
    "ExecuteTime": {
     "end_time": "2024-08-06T15:45:18.391328Z",
     "start_time": "2024-08-06T15:45:18.376150Z"
    }
   },
   "cell_type": "code",
   "source": [
    "# Load the extracted text\n",
    "with open(output_text_file, 'r', encoding='utf-8') as file:\n",
    "    txt_content = file.read()\n"
   ],
   "id": "82f02458351f1e0e",
   "outputs": [],
   "execution_count": 20
  },
  {
   "metadata": {
    "ExecuteTime": {
     "end_time": "2024-08-06T15:45:19.248292Z",
     "start_time": "2024-08-06T15:45:19.241498Z"
    }
   },
   "cell_type": "code",
   "source": "context_document = Document(page_content=txt_content)\n",
   "id": "f171afdc824214d6",
   "outputs": [],
   "execution_count": 21
  },
  {
   "metadata": {
    "ExecuteTime": {
     "end_time": "2024-08-06T15:45:20.421973Z",
     "start_time": "2024-08-06T15:45:20.406803Z"
    }
   },
   "cell_type": "code",
   "source": [
    "# Define the QA prompt template\n",
    "qa_system_prompt = \"\"\"system You are an assistant for question-answering tasks. Use the following context to answer the question. Avoid phrases like \"Based on the provided context\". Explain the answer in the end and make a heading with a paragraph.\n",
    "Question: {input}\n",
    "Context: {context}\n",
    "Answer: assistant\"\"\"\n",
    "qa_prompt = ChatPromptTemplate.from_messages(\n",
    "    [\n",
    "        (\"system\", qa_system_prompt),\n",
    "        MessagesPlaceholder(\"chat_history\"),\n",
    "        (\"human\", \"{input}\"),\n",
    "    ]\n",
    ")\n",
    "\n",
    "# Create the question-answer chain\n",
    "question_answer_chain = create_stuff_documents_chain(llm, qa_prompt)"
   ],
   "id": "4403fa0997a34477",
   "outputs": [],
   "execution_count": 22
  },
  {
   "metadata": {
    "ExecuteTime": {
     "end_time": "2024-08-06T15:45:21.105474Z",
     "start_time": "2024-08-06T15:45:21.102673Z"
    }
   },
   "cell_type": "code",
   "source": [
    "# Chat history\n",
    "chat_history = []\n"
   ],
   "id": "1abf2d51e9646cff",
   "outputs": [],
   "execution_count": 23
  },
  {
   "metadata": {
    "ExecuteTime": {
     "end_time": "2024-08-06T15:47:48.821944Z",
     "start_time": "2024-08-06T15:47:34.411361Z"
    }
   },
   "cell_type": "code",
   "source": [
    "# Ask the question\n",
    "question = \"can you analyze this data and explain\"\n",
    "ai_msg_1 = question_answer_chain.invoke({\"input\": question, \"chat_history\": chat_history, \"context\": [context_document]})\n",
    "chat_history.extend([HumanMessage(content=question), ai_msg_1])\n",
    "\n",
    "print(ai_msg_1)"
   ],
   "id": "b20362fcb00e7a71",
   "outputs": [
    {
     "name": "stdout",
     "output_type": "stream",
     "text": [
      "**Financial Analysis of a Company**\n",
      "\n",
      "The provided financial data represents the company's performance for the year ended September 28, 2019. Here's an analysis of the key metrics:\n",
      "\n",
      "**Revenue and Gross Profit**: The company reported net sales of $4,358,100, with a gross profit of $1,619,386, indicating a gross margin of approximately 37%. This suggests that the company has a relatively stable pricing strategy and is able to maintain its profitability despite fluctuations in costs.\n",
      "\n",
      "**Operating Expenses**: Total operating expenses stood at $854,159, which is roughly 19.6% of net sales. The majority of these expenses ($560,430) were attributed to selling and operating expenses, while general and administrative expenses accounted for $293,729. This suggests that the company has a significant focus on marketing and sales efforts.\n",
      "\n",
      "**Operating Income**: The company reported an operating income of $765,227, which is approximately 17.5% of net sales. This indicates that the company's operations are profitable, but there may be opportunities to optimize costs further.\n",
      "\n",
      "**Other Income and Expenses**: The company recorded other income of $960 and a gain on financial instruments of $5,513. However, it also reported a loss on foreign currency transactions of $(12,649). These items have a relatively minor impact on the overall profitability of the company.\n",
      "\n",
      "**Income Before Taxes and Net Income**: The company's income before taxes was $740,874, with an income tax expense of $257,642. This resulted in a net income of $483,232, which represents approximately 11% of net sales.\n",
      "\n",
      "Overall, the company appears to have a stable financial position, with a focus on maintaining profitability through its operations and pricing strategy. However, there may be opportunities for cost optimization and improvement in certain areas, such as foreign currency transactions.\n"
     ]
    }
   ],
   "execution_count": 27
  },
  {
   "metadata": {},
   "cell_type": "code",
   "outputs": [],
   "execution_count": null,
   "source": "",
   "id": "ee19da428a17065c"
  }
 ],
 "metadata": {
  "kernelspec": {
   "display_name": "Python 3",
   "language": "python",
   "name": "python3"
  },
  "language_info": {
   "codemirror_mode": {
    "name": "ipython",
    "version": 2
   },
   "file_extension": ".py",
   "mimetype": "text/x-python",
   "name": "python",
   "nbconvert_exporter": "python",
   "pygments_lexer": "ipython2",
   "version": "2.7.6"
  }
 },
 "nbformat": 4,
 "nbformat_minor": 5
}
